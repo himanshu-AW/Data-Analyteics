{
 "cells": [
  {
   "cell_type": "markdown",
   "metadata": {},
   "source": [
    "### **Question 2**"
   ]
  },
  {
   "cell_type": "code",
   "execution_count": null,
   "metadata": {},
   "outputs": [],
   "source": []
  },
  {
   "cell_type": "markdown",
   "metadata": {},
   "source": [
    "### **Question 3**"
   ]
  },
  {
   "cell_type": "code",
   "execution_count": null,
   "metadata": {},
   "outputs": [
    {
     "name": "stdout",
     "output_type": "stream",
     "text": [
      "The lyrics is that good!\n",
      "The lyrics is that poor!\n"
     ]
    }
   ],
   "source": [
    "def replace_poor(str):\n",
    "    not_idx = str.find(\"not\")\n",
    "    poor_idx = str.find(\"poor\")\n",
    "    \n",
    "    if not_idx !=-1 and poor_idx!=-1 and not_idx < poor_idx:\n",
    "        return str[:not_idx] + str[not_idx+4:poor_idx] + \"good\" + str[poor_idx+4:]\n",
    "    else:\n",
    "        return str\n",
    "    \n",
    "str=\"The lyrics is not that poor!\"\n",
    "print(replace_poor(str)) \n",
    "str=\"The lyrics is that poor!\"\n",
    "print(replace_poor(str)) "
   ]
  },
  {
   "cell_type": "markdown",
   "metadata": {},
   "source": [
    "### **Question 4**"
   ]
  },
  {
   "cell_type": "code",
   "execution_count": null,
   "metadata": {},
   "outputs": [
    {
     "name": "stdout",
     "output_type": "stream",
     "text": [
      "[[10, 20], [40], [30, 56, 25], [33]]\n"
     ]
    }
   ],
   "source": [
    "sampleList = [[10,20],[40],[30,56,25],[10,20],[33],[40]]\n",
    "ans =[]\n",
    "for x in range(len(sampleList)):\n",
    "    if sampleList[x] in ans:\n",
    "        continue\n",
    "    else:\n",
    "        ans.append(sampleList[x])\n",
    "print(ans)\n"
   ]
  },
  {
   "cell_type": "markdown",
   "metadata": {},
   "source": [
    "### **Question 5**"
   ]
  },
  {
   "cell_type": "code",
   "execution_count": 13,
   "metadata": {},
   "outputs": [
    {
     "name": "stdout",
     "output_type": "stream",
     "text": [
      "(50, 40, 30, 20, 10)\n"
     ]
    }
   ],
   "source": [
    "a_tuple = (10,20,30,40,50)\n",
    "print(a_tuple[::-1])"
   ]
  },
  {
   "cell_type": "markdown",
   "metadata": {},
   "source": [
    "### **Question 6**"
   ]
  },
  {
   "cell_type": "code",
   "execution_count": 26,
   "metadata": {},
   "outputs": [
    {
     "name": "stdout",
     "output_type": "stream",
     "text": [
      "Minimum value : 44\n",
      "Maximum value : 87\n"
     ]
    }
   ],
   "source": [
    "sample_dict = { \"Bablu\": 60 ,\"Tarun\":70,\"Tasauvar\" :44 ,\"Gaurav\":69,\"Nishant\":87,\"Manav\":55}\n",
    "min_val = float('inf')\n",
    "max_val = float('-inf')\n",
    "for k,v in sample_dict.items():\n",
    "    if(v<min_val):\n",
    "        min_val=v\n",
    "    if(v>max_val):\n",
    "        max_val =v\n",
    "\n",
    "print(f\"Minimum value : {min_val}\")\n",
    "print(f\"Maximum value : {max_val}\")"
   ]
  },
  {
   "cell_type": "markdown",
   "metadata": {},
   "source": [
    "### **Question 7**"
   ]
  },
  {
   "cell_type": "code",
   "execution_count": null,
   "metadata": {},
   "outputs": [
    {
     "name": "stdout",
     "output_type": "stream",
     "text": [
      "1 2 3 4 5 6 "
     ]
    }
   ],
   "source": [
    "data_set = frozenset({1,2,3,4,5,6})\n",
    "for x in data_set:\n",
    "    print(x,end=\" \")\n",
    "#  ----- Features of frozenset -----\n",
    "# 1. We initialized a frozenset then we can't perform any modification operations."
   ]
  },
  {
   "cell_type": "markdown",
   "metadata": {},
   "source": [
    "### **Question 8**"
   ]
  },
  {
   "cell_type": "code",
   "execution_count": null,
   "metadata": {},
   "outputs": [],
   "source": [
    "import calendar"
   ]
  },
  {
   "cell_type": "code",
   "execution_count": 30,
   "metadata": {},
   "outputs": [
    {
     "name": "stdout",
     "output_type": "stream",
     "text": [
      "   February 2025\n",
      "Mo Tu We Th Fr Sa Su\n",
      "                1  2\n",
      " 3  4  5  6  7  8  9\n",
      "10 11 12 13 14 15 16\n",
      "17 18 19 20 21 22 23\n",
      "24 25 26 27 28\n",
      "\n",
      "First Day: 5, Total Days: 28\n"
     ]
    }
   ],
   "source": [
    "year = 2025\n",
    "month = 2\n",
    "\n",
    "print(calendar.month(year,month))\n",
    "first_day, num_days = calendar.monthrange(year, month)\n",
    "print(f\"First Day: {first_day}, Total Days: {num_days}\")"
   ]
  },
  {
   "cell_type": "markdown",
   "metadata": {},
   "source": [
    "### **Question 13**"
   ]
  },
  {
   "cell_type": "markdown",
   "metadata": {},
   "source": [
    "``SELECT count(employee_id) as total_employees, department\n",
    "FROM Employee\n",
    "GROUP BY department``"
   ]
  }
 ],
 "metadata": {
  "kernelspec": {
   "display_name": "Python 3",
   "language": "python",
   "name": "python3"
  },
  "language_info": {
   "codemirror_mode": {
    "name": "ipython",
    "version": 3
   },
   "file_extension": ".py",
   "mimetype": "text/x-python",
   "name": "python",
   "nbconvert_exporter": "python",
   "pygments_lexer": "ipython3",
   "version": "3.13.0"
  }
 },
 "nbformat": 4,
 "nbformat_minor": 2
}
