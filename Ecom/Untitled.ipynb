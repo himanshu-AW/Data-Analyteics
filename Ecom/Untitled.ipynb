{
 "cells": [
  {
   "cell_type": "code",
   "execution_count": null,
   "id": "93c09766-b71b-45f7-9517-20116e70fcef",
   "metadata": {},
   "outputs": [],
   "source": [
    "import pandas as pd\n",
    "import matplotlib.pyplot as plt\n",
    "import seaborn as sns\n",
    "import mysql.connector as conn\n",
    "\n",
    "try:\n",
    "    db = conn.connect(\n",
    "        host='localhost',\n",
    "        username='root',\n",
    "        password='root',\n",
    "        database='ecommerce2',\n",
    "        port=3306\n",
    "    )\n",
    "    print(\"Connected Successfully\")\n",
    "except conn.Error as e:\n",
    "    print(f\"Error: {e}\")\n",
    "# cur =db.cursor()"
   ]
  },
  {
   "cell_type": "code",
   "execution_count": null,
   "id": "eaf24f01-4443-4197-a7eb-3746cea8767e",
   "metadata": {},
   "outputs": [],
   "source": [
    "## 1. List all unique cities where customers are located."
   ]
  },
  {
   "cell_type": "code",
   "execution_count": null,
   "id": "53fef1d9-9289-4de0-bfcc-55ca95598f3b",
   "metadata": {},
   "outputs": [],
   "source": [
    "# query = ''' select distinct(customer_city) from customer'''\n",
    "# cur.execute(query)\n",
    "# data = cur.fetchall()\n",
    "# data"
   ]
  },
  {
   "cell_type": "code",
   "execution_count": null,
   "id": "1ad9eb76-620a-478c-bc79-00e690087f57",
   "metadata": {},
   "outputs": [],
   "source": []
  },
  {
   "cell_type": "code",
   "execution_count": null,
   "id": "8880de54-95d5-4898-9adf-2ac6107d06e7",
   "metadata": {},
   "outputs": [],
   "source": []
  }
 ],
 "metadata": {
  "kernelspec": {
   "display_name": "Python 3 (ipykernel)",
   "language": "python",
   "name": "python3"
  },
  "language_info": {
   "codemirror_mode": {
    "name": "ipython",
    "version": 3
   },
   "file_extension": ".py",
   "mimetype": "text/x-python",
   "name": "python",
   "nbconvert_exporter": "python",
   "pygments_lexer": "ipython3",
   "version": "3.13.0"
  }
 },
 "nbformat": 4,
 "nbformat_minor": 5
}
