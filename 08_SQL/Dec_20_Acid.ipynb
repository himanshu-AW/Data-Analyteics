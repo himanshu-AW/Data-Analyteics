{
 "cells": [
  {
   "cell_type": "markdown",
   "metadata": {},
   "source": [
    "DBMS is a management of data when any changes are done in it.It is because , if the intregrated is affected then whole will get disturbe and currupted. therefore tto maintain the integrity of data . there are 4 properties descibe in datasets which are known as Acid property."
   ]
  },
  {
   "cell_type": "markdown",
   "metadata": {},
   "source": []
  },
  {
   "cell_type": "markdown",
   "metadata": {},
   "source": [
    "The word consistry means preserve remains. the state of data remain same before and after transaction. as if its the only trasaction on the system."
   ]
  },
  {
   "cell_type": "markdown",
   "metadata": {},
   "source": []
  },
  {
   "cell_type": "markdown",
   "metadata": {},
   "source": [
    "Each trasation independent of other transaction and parellel schedular get converted to serial schedular to enure consistecy"
   ]
  }
 ],
 "metadata": {
  "language_info": {
   "name": "python"
  }
 },
 "nbformat": 4,
 "nbformat_minor": 2
}
