{
 "cells": [
  {
   "cell_type": "markdown",
   "metadata": {},
   "source": [
    "### Ques-1: identify orders with atleast one product above 100rs. OR Find all orders whrere one product has a price greater than 100rs\n",
    "```select order from table_name where price > 100;```"
   ]
  },
  {
   "cell_type": "markdown",
   "metadata": {},
   "source": []
  },
  {
   "cell_type": "markdown",
   "metadata": {},
   "source": [
    "### Ques-2: Find the days when daily sales were 50% above or below the average.\n",
    "``` select days from table_name where sales*0.5 > sales or avg(sales) < sales; ```"
   ]
  },
  {
   "cell_type": "markdown",
   "metadata": {},
   "source": []
  },
  {
   "cell_type": "markdown",
   "metadata": {},
   "source": [
    " why do we use SQL constraint we can use while creating the table"
   ]
  },
  {
   "cell_type": "markdown",
   "metadata": {},
   "source": [
    "difference b/w primary key and unique key\n",
    "\n",
    "The **Primary Key** and **Unique Key** are two important constraints in relational databases that help enforce data integrity. Here’s a comparison:\n",
    "\n",
    "| **Feature**              | **Primary Key**                                                                                       | **Unique Key**                                                                                           |\n",
    "|---------------------------|-------------------------------------------------------------------------------------------------------|----------------------------------------------------------------------------------------------------------|\n",
    "| **Definition**            | Uniquely identifies each record in a table.                                                         | Ensures all values in a column or combination of columns are unique.                                     |\n",
    "| **Uniqueness**            | Must be unique for each row in the table.                                                            | Must also be unique for each row in the table.                                                           |\n",
    "| **NULL Values**           | Cannot contain `NULL` values.                                                                       | Can contain one or more `NULL` values (depending on the database).                                       |\n",
    "| **Number of Keys**        | Only one primary key is allowed per table.                                                          | A table can have multiple unique keys.                                                                   |\n",
    "| **Index**                 | Automatically creates a clustered index (in most databases like SQL Server, though it may vary).    | Creates a non-clustered index by default.                                                                |\n",
    "| **Purpose**               | Used to uniquely identify rows and is a fundamental part of database design.                        | Used to enforce the uniqueness of values in a column or combination of columns.                          |\n",
    "| **Combination of Columns**| Can be composed of one or more columns (composite primary key).                                      | Can also be composed of one or more columns.                                                             |\n",
    "\n",
    "### Key Differences\n",
    "1. **NULL Handling**: Primary keys do not allow `NULL`, while unique keys may allow `NULL` values.\n",
    "2. **Quantity in a Table**: Only one primary key is allowed, but there can be multiple unique keys.\n",
    "3. **Index Type**: Primary keys often result in a clustered index, whereas unique keys create non-clustered indexes.\n",
    "\n",
    "### Example\n",
    "\n",
    "#### Primary Key:\n",
    "```sql\n",
    "CREATE TABLE Employees (\n",
    "    EmployeeID INT PRIMARY KEY, -- Only one primary key\n",
    "    Name VARCHAR(100),\n",
    "    Email VARCHAR(100) UNIQUE\n",
    ");\n",
    "```\n",
    "\n",
    "#### Unique Key:\n",
    "```sql\n",
    "CREATE TABLE Students (\n",
    "    StudentID INT PRIMARY KEY,\n",
    "    RollNumber INT UNIQUE,       -- Unique but allows NULL\n",
    "    Email VARCHAR(100) UNIQUE\n",
    ");\n",
    "```\n",
    "\n",
    "In this example:\n",
    "- `EmployeeID` and `StudentID` are **Primary Keys**.\n",
    "- `Email` and `RollNumber` are **Unique Keys**. They ensure no duplicate values but may allow `NULL` (e.g., in the case of optional email)."
   ]
  },
  {
   "cell_type": "markdown",
   "metadata": {},
   "source": [
    "### Ques-: How to read top 5 records from a  table  using a db.\n",
    "\n",
    "```SELECT * FROM table_name LIMIT 5;```\n",
    "\n",
    "- Explanation: LIMIT 5 fetches the first 5 rows from the table."
   ]
  },
  {
   "cell_type": "markdown",
   "metadata": {},
   "source": []
  }
 ],
 "metadata": {
  "language_info": {
   "name": "python"
  }
 },
 "nbformat": 4,
 "nbformat_minor": 2
}
