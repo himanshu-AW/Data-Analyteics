{
 "cells": [
  {
   "cell_type": "code",
   "execution_count": 31,
   "metadata": {},
   "outputs": [],
   "source": [
    "import pandas as pd"
   ]
  },
  {
   "cell_type": "code",
   "execution_count": 32,
   "metadata": {},
   "outputs": [
    {
     "name": "stdout",
     "output_type": "stream",
     "text": [
      "    Name  Age       City\n",
      "0   Aman   20      Delhi\n",
      "1  Rahul   22  Ghaziabad\n",
      "2  Shyam   32     Mumbai\n"
     ]
    }
   ],
   "source": [
    "demo_data = {\"Name\":[\"Aman\",\"Rahul\",\"Shyam\"],\"Age\":[20,22,32],\"City\":[\"Delhi\",\"Ghaziabad\",\"Mumbai\"]}\n",
    "df = pd.DataFrame(demo_data)\n",
    "print(df)"
   ]
  },
  {
   "cell_type": "code",
   "execution_count": null,
   "metadata": {},
   "outputs": [],
   "source": []
  },
  {
   "cell_type": "code",
   "execution_count": 33,
   "metadata": {},
   "outputs": [
    {
     "name": "stdout",
     "output_type": "stream",
     "text": [
      "            Name  Age       City\n",
      "0   Aman Surname   20      Delhi\n",
      "1  Rahul Surname   22  Ghaziabad\n",
      "2  Shyam Surname   32     Mumbai\n"
     ]
    }
   ],
   "source": [
    "df[\"Name\"]+=\" Surname\"\n",
    "print(df)"
   ]
  },
  {
   "cell_type": "code",
   "execution_count": 34,
   "metadata": {},
   "outputs": [
    {
     "name": "stdout",
     "output_type": "stream",
     "text": [
      "            Name  Age       City\n",
      "0   Aman Surname   25      Delhi\n",
      "1  Rahul Surname   27  Ghaziabad\n",
      "2  Shyam Surname   37     Mumbai\n"
     ]
    }
   ],
   "source": [
    "df[\"Age\"]+=5\n",
    "print(df)"
   ]
  },
  {
   "cell_type": "code",
   "execution_count": 35,
   "metadata": {},
   "outputs": [
    {
     "data": {
      "text/html": [
       "<div>\n",
       "<style scoped>\n",
       "    .dataframe tbody tr th:only-of-type {\n",
       "        vertical-align: middle;\n",
       "    }\n",
       "\n",
       "    .dataframe tbody tr th {\n",
       "        vertical-align: top;\n",
       "    }\n",
       "\n",
       "    .dataframe thead th {\n",
       "        text-align: right;\n",
       "    }\n",
       "</style>\n",
       "<table border=\"1\" class=\"dataframe\">\n",
       "  <thead>\n",
       "    <tr style=\"text-align: right;\">\n",
       "      <th></th>\n",
       "      <th>Name</th>\n",
       "      <th>Age</th>\n",
       "      <th>City</th>\n",
       "    </tr>\n",
       "  </thead>\n",
       "  <tbody>\n",
       "    <tr>\n",
       "      <th>0</th>\n",
       "      <td>Aman Surname</td>\n",
       "      <td>25</td>\n",
       "      <td>Delhi</td>\n",
       "    </tr>\n",
       "    <tr>\n",
       "      <th>1</th>\n",
       "      <td>Rahul Surname</td>\n",
       "      <td>27</td>\n",
       "      <td>Ghaziabad</td>\n",
       "    </tr>\n",
       "    <tr>\n",
       "      <th>2</th>\n",
       "      <td>Shyam Surname</td>\n",
       "      <td>37</td>\n",
       "      <td>Mumbai</td>\n",
       "    </tr>\n",
       "  </tbody>\n",
       "</table>\n",
       "</div>"
      ],
      "text/plain": [
       "            Name  Age       City\n",
       "0   Aman Surname   25      Delhi\n",
       "1  Rahul Surname   27  Ghaziabad\n",
       "2  Shyam Surname   37     Mumbai"
      ]
     },
     "execution_count": 35,
     "metadata": {},
     "output_type": "execute_result"
    }
   ],
   "source": [
    "df.iloc[:]"
   ]
  },
  {
   "cell_type": "code",
   "execution_count": 36,
   "metadata": {},
   "outputs": [
    {
     "name": "stdout",
     "output_type": "stream",
     "text": [
      "            Name  Age       City\n",
      "1  Rahul Surname   27  Ghaziabad\n",
      "2  Shyam Surname   37     Mumbai\n"
     ]
    }
   ],
   "source": [
    "demo = df[df[\"Age\"] > 25]\n",
    "print(demo)"
   ]
  },
  {
   "cell_type": "code",
   "execution_count": 37,
   "metadata": {},
   "outputs": [
    {
     "name": "stdout",
     "output_type": "stream",
     "text": [
      "            Name  Age       City\n",
      "2  Shyam Surname   37     Mumbai\n",
      "1  Rahul Surname   27  Ghaziabad\n",
      "0   Aman Surname   25      Delhi\n",
      "\n",
      "            Name  Age       City\n",
      "0   Aman Surname   25      Delhi\n",
      "1  Rahul Surname   27  Ghaziabad\n",
      "2  Shyam Surname   37     Mumbai\n"
     ]
    }
   ],
   "source": [
    "print(df.sort_values(by='Age',ascending=False))\n",
    "print()\n",
    "print(df)"
   ]
  },
  {
   "cell_type": "code",
   "execution_count": 38,
   "metadata": {},
   "outputs": [
    {
     "name": "stdout",
     "output_type": "stream",
     "text": [
      "            Name  Age       City\n",
      "2  Shyam Surname   37     Mumbai\n",
      "1  Rahul Surname   27  Ghaziabad\n",
      "0   Aman Surname   25      Delhi\n"
     ]
    }
   ],
   "source": [
    "df.sort_values(by='Age',ascending=False,inplace=True)\n",
    "print(df)"
   ]
  },
  {
   "cell_type": "code",
   "execution_count": 39,
   "metadata": {},
   "outputs": [
    {
     "name": "stdout",
     "output_type": "stream",
     "text": [
      "            Name  Age       City\n",
      "2  Shyam Surname   37     Mumbai\n",
      "1  Rahul Surname   27  Ghaziabad\n",
      "0   Aman Surname   25      Delhi\n"
     ]
    }
   ],
   "source": [
    "df.set_index(\"Name\")\n",
    "print(df)"
   ]
  },
  {
   "cell_type": "code",
   "execution_count": 40,
   "metadata": {},
   "outputs": [
    {
     "name": "stdout",
     "output_type": "stream",
     "text": [
      "    Name    Age   City\n",
      "2  False  False  False\n",
      "1  False  False  False\n",
      "0  False  False  False\n",
      "            Name  Age       City\n",
      "2  Shyam Surname   37     Mumbai\n",
      "1  Rahul Surname   27  Ghaziabad\n",
      "0   Aman Surname   25      Delhi\n"
     ]
    }
   ],
   "source": [
    "print(df.isnull())\n",
    "print(df.dropna())"
   ]
  },
  {
   "cell_type": "code",
   "execution_count": 41,
   "metadata": {},
   "outputs": [
    {
     "name": "stdout",
     "output_type": "stream",
     "text": [
      "            Name  Age       City\n",
      "2  Shyam Surname   37     Mumbai\n",
      "1  Rahul Surname   27  Ghaziabad\n",
      "0   Aman Surname   25      Delhi\n"
     ]
    }
   ],
   "source": [
    "# fill missing values with 0\n",
    "print(df.fillna(0))"
   ]
  },
  {
   "cell_type": "code",
   "execution_count": 56,
   "metadata": {},
   "outputs": [
    {
     "name": "stdout",
     "output_type": "stream",
     "text": [
      "City\n",
      "Mumbai       1\n",
      "Ghaziabad    1\n",
      "Delhi        1\n",
      "Name: count, dtype: int64\n"
     ]
    }
   ],
   "source": [
    "print(df['City'].value_counts())"
   ]
  },
  {
   "cell_type": "code",
   "execution_count": 55,
   "metadata": {},
   "outputs": [
    {
     "name": "stdout",
     "output_type": "stream",
     "text": [
      "   A  B\n",
      "0  1  3\n",
      "1  2  2\n",
      "2  3  6\n"
     ]
    }
   ],
   "source": [
    "data1 = {\"A\":[1,2,3,2,1],\"B\":[3,2,6,2,3]}\n",
    "df_data1 = pd.DataFrame(data1)\n",
    "print(df_data1.drop_duplicates())"
   ]
  },
  {
   "cell_type": "code",
   "execution_count": 57,
   "metadata": {},
   "outputs": [
    {
     "name": "stdout",
     "output_type": "stream",
     "text": [
      "            Name  Age       City  Age_square\n",
      "2  Shyam Surname   37     Mumbai        1369\n",
      "1  Rahul Surname   27  Ghaziabad         729\n",
      "0   Aman Surname   25      Delhi         625\n"
     ]
    }
   ],
   "source": [
    "def square(x):\n",
    "    return x*x\n",
    "\n",
    "df[\"Age_square\"] = df[\"Age\"].apply(square)\n",
    "print(df)"
   ]
  },
  {
   "cell_type": "markdown",
   "metadata": {},
   "source": [
    "**Groupby**\n",
    "\n",
    "In Pandas, the **groupby** operation is a powerful tool for splitting data into groups based on some criteria, applying a function to each group, and combining the results back into a data structure. It is similar to the \"group by\" concept in SQL.\n",
    "\n",
    "**Steps in GroupBy**\n",
    "\n",
    "- Splitting: Dividing the data into groups based on certain criteria (e.g., column values).\n",
    "- Applying: Applying a function to each group (e.g., sum, mean, count, etc.).\n",
    "- Combining: Combining the results into a new data structure.\n",
    "\n",
    "**Syntax:**\n",
    "\n",
    "**df.groupby(by, axis=0, level=None, as_index=True, sort=True)**\n",
    "\n",
    "- by: Specifies the column(s) or function to group by.\n",
    "- axis: Whether to group rows (axis=0) or columns (axis=1).\n",
    "- as_index: If True, the grouped columns become the index in the output. Default is True."
   ]
  },
  {
   "cell_type": "code",
   "execution_count": 61,
   "metadata": {},
   "outputs": [
    {
     "name": "stdout",
     "output_type": "stream",
     "text": [
      "Category\n",
      "A    90\n",
      "B    60\n",
      "Name: Values, dtype: int64\n"
     ]
    }
   ],
   "source": [
    "# Sample DataFrame\n",
    "data = {'Category': ['A', 'B', 'A', 'B', 'A'],\n",
    "        'Values': [10, 20, 30, 40, 50]}\n",
    "df = pd.DataFrame(data)\n",
    "\n",
    "# Group by 'Category' and calculate the sum\n",
    "grouped = df.groupby('Category')['Values'].sum()\n",
    "print(grouped)"
   ]
  },
  {
   "cell_type": "markdown",
   "metadata": {},
   "source": [
    "In **Pandas**, the `groupby` operation is a powerful tool for splitting data into groups based on some criteria, applying a function to each group, and combining the results back into a data structure. It is similar to the \"group by\" concept in SQL.\n",
    "\n",
    "### **Steps in GroupBy**\n",
    "The `groupby` operation can be described as:\n",
    "1. **Splitting**: Dividing the data into groups based on certain criteria (e.g., column values).\n",
    "2. **Applying**: Applying a function to each group (e.g., sum, mean, count, etc.).\n",
    "3. **Combining**: Combining the results into a new data structure.\n",
    "\n",
    "### **Syntax**\n",
    "```python\n",
    "df.groupby(by, axis=0, level=None, as_index=True, sort=True)\n",
    "```\n",
    "\n",
    "- `by`: Specifies the column(s) or function to group by.\n",
    "- `axis`: Whether to group rows (axis=0) or columns (axis=1).\n",
    "- `as_index`: If `True`, the grouped columns become the index in the output. Default is `True`.\n",
    "\n",
    "---\n",
    "\n",
    "### **Basic Example**\n",
    "```python\n",
    "import pandas as pd\n",
    "\n",
    "# Sample DataFrame\n",
    "data = {'Category': ['A', 'B', 'A', 'B', 'A'],\n",
    "        'Values': [10, 20, 30, 40, 50]}\n",
    "df = pd.DataFrame(data)\n",
    "\n",
    "# Group by 'Category' and calculate the sum\n",
    "grouped = df.groupby('Category')['Values'].sum()\n",
    "print(grouped)\n",
    "```\n",
    "\n",
    "**Output:**\n",
    "```\n",
    "Category\n",
    "A    90\n",
    "B    60\n",
    "Name: Values, dtype: int64\n",
    "```\n",
    "\n",
    "---\n",
    "\n",
    "### **Common Aggregations**\n",
    "You can use many functions after `groupby` to aggregate data:\n",
    "\n",
    "| **Operation**   | **Description**                                  | **Example**                                  |\n",
    "|------------------|--------------------------------------------------|----------------------------------------------|\n",
    "| `sum()`          | Sum of values in each group                     | `df.groupby('col').sum()`                   |\n",
    "| `mean()`         | Average of values in each group                 | `df.groupby('col').mean()`                  |\n",
    "| `count()`        | Count of non-NA values in each group            | `df.groupby('col').count()`                 |\n",
    "| `min()` / `max()`| Minimum or maximum value in each group          | `df.groupby('col').min()`                   |\n",
    "| `size()`         | Count of all elements in each group (includes NA)| `df.groupby('col').size()`                  |\n",
    "| `std()` / `var()`| Standard deviation or variance in each group    | `df.groupby('col').std()`                   |\n",
    "| `first()`/`last()`| First or last value in each group              | `df.groupby('col').first()`                 |\n",
    "\n",
    "---\n",
    "\n",
    "### **Custom Functions with `apply()`**\n",
    "You can define custom aggregation functions and use `apply`.\n",
    "\n",
    "```python\n",
    "# Custom function to calculate range\n",
    "range_func = lambda x: x.max() - x.min()\n",
    "\n",
    "grouped = df.groupby('Category')['Values'].apply(range_func)\n",
    "print(grouped)\n",
    "```\n",
    "\n",
    "**Output:**\n",
    "```\n",
    "Category\n",
    "A    40\n",
    "B    20\n",
    "Name: Values, dtype: int64\n",
    "```\n",
    "\n",
    "---\n",
    "\n",
    "### **Grouping by Multiple Columns**\n",
    "You can group by more than one column by passing a list.\n",
    "\n",
    "```python\n",
    "data = {'Category': ['A', 'A', 'B', 'B'],\n",
    "        'Sub-Category': ['X', 'Y', 'X', 'Y'],\n",
    "        'Values': [10, 20, 30, 40]}\n",
    "df = pd.DataFrame(data)\n",
    "\n",
    "grouped = df.groupby(['Category', 'Sub-Category'])['Values'].sum()\n",
    "print(grouped)\n",
    "```\n",
    "\n",
    "**Output:**\n",
    "```\n",
    "Category  Sub-Category\n",
    "A         X              10\n",
    "          Y              20\n",
    "B         X              30\n",
    "          Y              40\n",
    "Name: Values, dtype: int64\n",
    "```\n",
    "\n",
    "---\n",
    "\n",
    "### **Transform and Filter**\n",
    "1. **Transform**: Used to apply a function and return results aligned with the original DataFrame size.\n",
    "```python\n",
    "df['Mean'] = df.groupby('Category')['Values'].transform('mean')\n",
    "```\n",
    "\n",
    "2. **Filter**: Used to filter out groups based on some condition.\n",
    "```python\n",
    "filtered = df.groupby('Category').filter(lambda x: x['Values'].sum() > 50)\n",
    "```\n",
    "\n",
    "---\n",
    "\n",
    "### **Example Use Cases**\n",
    "1. Aggregating sales data by product category.\n",
    "2. Calculating average scores grouped by students' grades.\n",
    "3. Analyzing trends grouped by time periods (e.g., daily, monthly).\n",
    "\n",
    "Let me know if you'd like to explore a specific use case or dive deeper into any operation!"
   ]
  },
  {
   "cell_type": "markdown",
   "metadata": {},
   "source": []
  }
 ],
 "metadata": {
  "kernelspec": {
   "display_name": "Python 3",
   "language": "python",
   "name": "python3"
  },
  "language_info": {
   "codemirror_mode": {
    "name": "ipython",
    "version": 3
   },
   "file_extension": ".py",
   "mimetype": "text/x-python",
   "name": "python",
   "nbconvert_exporter": "python",
   "pygments_lexer": "ipython3",
   "version": "3.13.0"
  }
 },
 "nbformat": 4,
 "nbformat_minor": 2
}
