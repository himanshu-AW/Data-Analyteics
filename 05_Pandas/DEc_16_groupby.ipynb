{
 "cells": [
  {
   "cell_type": "markdown",
   "metadata": {},
   "source": [
    " #GroupBy in pandas is a teachnique to group data based on some categories/attributes and then apply an operations like(sum , mean, etc)"
   ]
  },
  {
   "cell_type": "code",
   "execution_count": 5,
   "metadata": {},
   "outputs": [
    {
     "name": "stdout",
     "output_type": "stream",
     "text": [
      "Name\n",
      "Aman     23.0\n",
      "Shyam    32.0\n",
      "Vipin    34.0\n",
      "Name: Age, dtype: float64\n",
      "Name\n",
      "Aman     23\n",
      "Shyam    32\n",
      "Vipin    34\n",
      "Name: Age, dtype: int64\n"
     ]
    }
   ],
   "source": [
    "import pandas as pd\n",
    "\n",
    "data = {'Name':[\"Aman\",\"Shyam\",\"Vipin\"],\n",
    "        \"Age\":[23,32,34],\n",
    "        \"City\":[\"Delhi\",\"Mumbai\",\"Bangalore\"]}\n",
    "\n",
    "df = pd.DataFrame(data)\n",
    "grouped = df.groupby('Name')\n",
    "print( grouped[\"Age\"].mean())\n",
    "print( grouped[\"Age\"].sum())"
   ]
  },
  {
   "cell_type": "code",
   "execution_count": null,
   "metadata": {},
   "outputs": [],
   "source": []
  }
 ],
 "metadata": {
  "kernelspec": {
   "display_name": "Python 3",
   "language": "python",
   "name": "python3"
  },
  "language_info": {
   "codemirror_mode": {
    "name": "ipython",
    "version": 3
   },
   "file_extension": ".py",
   "mimetype": "text/x-python",
   "name": "python",
   "nbconvert_exporter": "python",
   "pygments_lexer": "ipython3",
   "version": "3.13.0"
  }
 },
 "nbformat": 4,
 "nbformat_minor": 2
}
