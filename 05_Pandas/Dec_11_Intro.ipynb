{
 "cells": [
  {
   "cell_type": "markdown",
   "metadata": {},
   "source": [
    "**PANDAS**\n",
    "- **Pndas** is a powerfull python library that us to work with structure data (data  in tabular).\n",
    "- It provides easy to use data structures and data frames (use for id) and data frame\n",
    "- It allows us to read anlaysis and manipulate the data easily."
   ]
  },
  {
   "cell_type": "markdown",
   "metadata": {},
   "source": [
    "**Differences between Pandas and NumPy**\n",
    "| **Aspect**                                | **Pandas**                                                                 | **NumPy**                                                      |\n",
    "|-------------------------------------------|----------------------------------------------------------------------------|----------------------------------------------------------------|\n",
    "| **Primary Use**                           | Working with tabular data                                                 | Working with numerical data                                    |\n",
    "| **Key Tools**                             | DataFrame and Series                                                      | Arrays                                                        |\n",
    "| **Memory Consumption**                    | Consumes more memory                                                      | Memory efficient                                              |\n",
    "| **Performance**                           | Better performance when rows ≥ 500K                                       | Better performance when rows ≤ 50K                           |\n",
    "| **Indexing Speed**                        | Indexing is slower                                                        | Indexing is faster                                            |\n",
    "| **Data Structure**                        | Provides a 2D table object (DataFrame)                                    | Provides multi-dimensional arrays                             |\n",
    "| **Development History**                   | Developed by Wes McKinney, released in 2008                               | Developed by Travis Oliphant, released in 2005                |\n",
    "| **Industry Use Cases**                    | Used by companies like Kaidee, Trivago, Abeja Inc., and many others       | Used by companies like Walmart, Tokopedia, Instacart, and more|\n",
    "| **Industry Application**                  | Higher industry application                                               | Lower industry application                                    |"
   ]
  },
  {
   "cell_type": "code",
   "execution_count": 3,
   "metadata": {},
   "outputs": [
    {
     "name": "stdout",
     "output_type": "stream",
     "text": [
      "0    10\n",
      "1    20\n",
      "2    30\n",
      "3    40\n",
      "dtype: int64\n",
      "<class 'pandas.core.series.Series'>\n"
     ]
    }
   ],
   "source": [
    "import pandas as pd\n",
    "\n",
    "a= pd.Series([10,20,30,40])\n",
    "print(a)\n",
    "print(type(a))"
   ]
  }
 ],
 "metadata": {
  "kernelspec": {
   "display_name": "Python 3",
   "language": "python",
   "name": "python3"
  },
  "language_info": {
   "codemirror_mode": {
    "name": "ipython",
    "version": 3
   },
   "file_extension": ".py",
   "mimetype": "text/x-python",
   "name": "python",
   "nbconvert_exporter": "python",
   "pygments_lexer": "ipython3",
   "version": "3.13.0"
  }
 },
 "nbformat": 4,
 "nbformat_minor": 2
}
