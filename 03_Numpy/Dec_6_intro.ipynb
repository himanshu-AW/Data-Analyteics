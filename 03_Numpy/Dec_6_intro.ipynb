{
 "cells": [
  {
   "cell_type": "markdown",
   "metadata": {},
   "source": [
    "**NumPy**\n",
    "\n",
    "NumPy stands for NUmerical Python, It's an open-source Python librabry consisting for multi-dimentional and single-dimensional array elements. \n",
    "\n",
    "**Why NumPy is useful or Need of NumPy?**\n",
    "\n",
    "- NumPy includes a wide range of mathematical functions for basic arithemtic, linear algebra, Fourier analysis, and more.\n",
    "- NUumPy performs numerical operations on large datasets efficiently.\n",
    "- Numpy suppports multi-dimentional arrays, allowing for the representation of complex data structures such as images, sound waves and tensors in machine learning models.\n",
    "- It supports the writing of concise and readable code complex mathematical computations.\n",
    "- It is compatible or imtegrtes with other libraries to do scientific calculations; these are SciPy, Pandas, Scikit-learn.\n",
    "- Many scientific and numerical computing libraries and tools are built on top of Numpy.\n",
    "\n",
    "**Applications of NumPy**\n",
    "- Data Analysis\n",
    "- Machine learning and Artificial Intelligence\n",
    "- Scientific Computing\n",
    "- Array manipulations\n",
    "- Finance and economics\n",
    "- Engineering and Robotics\n",
    "Image and Signal Processing\n",
    "Data Visualization"
   ]
  },
  {
   "cell_type": "markdown",
   "metadata": {},
   "source": [
    "Comparison between **NumPy arrays** and **Python lists**\n",
    "\n",
    "| **Aspect**        | **NumPy**                                                                                  | **Python List**                                                                              |\n",
    "|--------------------|-------------------------------------------------------------------------------------------|---------------------------------------------------------------------------------------------|\n",
    "| **Memory Storage** | Uses a contiguous block of memory, improving cache efficiency and access speed.            | Consists of pointers to objects, leading to more memory fragmentation and slower access.     |\n",
    "| **Data Types**     | Supports homogeneous data types (all elements are of the same type), leading to efficient memory use. | Can contain heterogeneous data types (elements can be of different types), causing higher memory overhead. |\n",
    "| **Operations**     | Uses vectorized operations leveraging SIMD (Single Instruction, Multiple Data) for parallel processing. | Relies on loop-based operations, which are slower due to Python's interpreted nature.        |\n",
    "| **Efficiency**     | Written in C and optimized for performance, reducing execution time of numerical operations. | Executed as Python byte-code, generally slower compared to compiled C code.                 |\n",
    "| **Memory Usage**   | Requires less memory due to fixed data types and contiguous storage.                       | Uses more memory because each element is a separate Python object with additional overhead.  |\n",
    "| **Broadcasting**   | Supports broadcasting, enabling operations on arrays of different shapes without extra copies. | Does not support broadcasting, making element-wise operations less efficient.               |\n",
    "| **Performance**    | Better cache utilization due to contiguous memory storage, leading to faster access and processing. | Poor cache utilization because of scattered memory allocation, resulting in slower access.   |\n",
    "| **Functionality**  | Provides a rich set of mathematical functions and tools optimized for array operations.     | Limited to basic operations and lacks advanced mathematical capabilities.                   | \n"
   ]
  },
  {
   "cell_type": "markdown",
   "metadata": {},
   "source": [
    "**Example Using NumPy:**\n",
    "\n"
   ]
  },
  {
   "cell_type": "code",
   "execution_count": 66,
   "metadata": {},
   "outputs": [
    {
     "name": "stdout",
     "output_type": "stream",
     "text": [
      "[5 7 9]\n"
     ]
    }
   ],
   "source": [
    "import numpy as np\n",
    "arr1 = np.array([1, 2, 3])\n",
    "arr2 = np.array([4, 5, 6])\n",
    "result = arr1 + arr2  # Element-wise addition\n",
    "print(result)  # Output: [5 7 9]"
   ]
  },
  {
   "cell_type": "markdown",
   "metadata": {},
   "source": [
    "**Example Using Python List:**"
   ]
  },
  {
   "cell_type": "code",
   "execution_count": 67,
   "metadata": {},
   "outputs": [
    {
     "name": "stdout",
     "output_type": "stream",
     "text": [
      "[5, 7, 9]\n"
     ]
    }
   ],
   "source": [
    "list1 = [1, 2, 3]\n",
    "list2 = [4, 5, 6]\n",
    "result = [list1[i] + list2[i] for i in range(len(list1))]  # Manual element-wise addition\n",
    "print(result)  # Output: [5, 7, 9]"
   ]
  },
  {
   "cell_type": "code",
   "execution_count": 68,
   "metadata": {},
   "outputs": [
    {
     "name": "stdout",
     "output_type": "stream",
     "text": [
      "60\n"
     ]
    }
   ],
   "source": [
    "import pandas as pd\n",
    "\n",
    "print(pd.options.display.max_rows) "
   ]
  },
  {
   "cell_type": "markdown",
   "metadata": {},
   "source": [
    "**Data  structure**\n",
    "\n",
    "- Series \n",
    "- DataFrames"
   ]
  },
  {
   "cell_type": "markdown",
   "metadata": {},
   "source": [
    "**What is a Series?**\n",
    "- A Pandas Series is like a column in a table.\n",
    "- It is a one-dimensional array holding data of any type."
   ]
  },
  {
   "cell_type": "code",
   "execution_count": 69,
   "metadata": {},
   "outputs": [
    {
     "name": "stdout",
     "output_type": "stream",
     "text": [
      "data list: \n",
      "0     10\n",
      "1     11\n",
      "2     12\n",
      "3     13\n",
      "4     14\n",
      "5     15\n",
      "6     16\n",
      "7     17\n",
      "8     18\n",
      "9     19\n",
      "10    20\n",
      "11    21\n",
      "12    22\n",
      "13    23\n",
      "14    24\n",
      "15    25\n",
      "16    26\n",
      "17    27\n",
      "18    28\n",
      "19    29\n",
      "dtype: int64\n",
      "--------------------head-----------------\n",
      "Head of data: \n",
      "0    10\n",
      "1    11\n",
      "2    12\n",
      "3    13\n",
      "4    14\n",
      "dtype: int64\n",
      "--------------------tail-----------------\n",
      "Head of data: \n",
      "15    25\n",
      "16    26\n",
      "17    27\n",
      "18    28\n",
      "19    29\n",
      "dtype: int64\n"
     ]
    }
   ],
   "source": [
    "import numpy as np\n",
    "import pandas as pd\n",
    "\n",
    "data_n = np.arange(10,30)\n",
    "data_p = pd.Series(data_n)\n",
    "print(f\"data list: \\n{data_p}\")\n",
    "print(\"--------------------head-----------------\")\n",
    "print(f\"Head of data: \\n{data_p.head()}\")\n",
    "print(\"--------------------tail-----------------\")\n",
    "print(f\"Head of data: \\n{data_p.tail()}\")"
   ]
  },
  {
   "cell_type": "code",
   "execution_count": 70,
   "metadata": {},
   "outputs": [
    {
     "name": "stdout",
     "output_type": "stream",
     "text": [
      "-------------- sort values -------------\n",
      "4     1\n",
      "8     1\n",
      "2     2\n",
      "3     4\n",
      "11    5\n",
      "1     5\n",
      "6     6\n",
      "5     6\n",
      "9     6\n",
      "0     7\n",
      "7     7\n",
      "10    7\n",
      "dtype: int32\n",
      "0     7\n",
      "7     7\n",
      "10    7\n",
      "6     6\n",
      "9     6\n",
      "5     6\n",
      "1     5\n",
      "11    5\n",
      "3     4\n",
      "2     2\n",
      "4     1\n",
      "8     1\n",
      "dtype: int32\n"
     ]
    }
   ],
   "source": [
    "print(\"-------------- sort values -------------\")\n",
    "data = np.array(np.random.randint(1,8,12))\n",
    "data_p = pd.Series(data)\n",
    "print(data_p.sort_values())\n",
    "print(data_p.sort_values(ascending=False))"
   ]
  },
  {
   "cell_type": "code",
   "execution_count": 71,
   "metadata": {},
   "outputs": [
    {
     "name": "stdout",
     "output_type": "stream",
     "text": [
      "7    3\n",
      "6    3\n",
      "5    2\n",
      "1    2\n",
      "4    1\n",
      "2    1\n",
      "Name: count, dtype: int64\n"
     ]
    }
   ],
   "source": [
    "print(data_p.value_counts())"
   ]
  },
  {
   "cell_type": "code",
   "execution_count": 72,
   "metadata": {},
   "outputs": [
    {
     "name": "stdout",
     "output_type": "stream",
     "text": [
      "[7 5 2 4 1 6]\n"
     ]
    }
   ],
   "source": [
    "print(data_p.unique())"
   ]
  },
  {
   "cell_type": "markdown",
   "metadata": {},
   "source": [
    "**Arithmetic operations**"
   ]
  },
  {
   "cell_type": "code",
   "execution_count": 79,
   "metadata": {},
   "outputs": [
    {
     "name": "stdout",
     "output_type": "stream",
     "text": [
      "0.0\n",
      "0     107\n",
      "1     105\n",
      "2     102\n",
      "3     104\n",
      "4     101\n",
      "5     106\n",
      "6     106\n",
      "7     107\n",
      "8     101\n",
      "9     106\n",
      "10    107\n",
      "11    105\n",
      "dtype: int32\n"
     ]
    }
   ],
   "source": [
    "print(np.log10(1))\n",
    "print(data_p+100)"
   ]
  },
  {
   "cell_type": "code",
   "execution_count": 80,
   "metadata": {},
   "outputs": [
    {
     "name": "stdout",
     "output_type": "stream",
     "text": [
      "0    -93\n",
      "1    -95\n",
      "2    -98\n",
      "3    -96\n",
      "4    -99\n",
      "5    -94\n",
      "6    -94\n",
      "7    -93\n",
      "8    -99\n",
      "9    -94\n",
      "10   -93\n",
      "11   -95\n",
      "dtype: int32\n"
     ]
    }
   ],
   "source": [
    "print(data_p-100)"
   ]
  },
  {
   "cell_type": "code",
   "execution_count": 81,
   "metadata": {},
   "outputs": [
    {
     "name": "stdout",
     "output_type": "stream",
     "text": [
      "0     70\n",
      "1     50\n",
      "2     20\n",
      "3     40\n",
      "4     10\n",
      "5     60\n",
      "6     60\n",
      "7     70\n",
      "8     10\n",
      "9     60\n",
      "10    70\n",
      "11    50\n",
      "dtype: int32\n"
     ]
    }
   ],
   "source": [
    "print(data_p*10)"
   ]
  },
  {
   "cell_type": "code",
   "execution_count": 82,
   "metadata": {},
   "outputs": [
    {
     "name": "stdout",
     "output_type": "stream",
     "text": [
      "0     0.7\n",
      "1     0.5\n",
      "2     0.2\n",
      "3     0.4\n",
      "4     0.1\n",
      "5     0.6\n",
      "6     0.6\n",
      "7     0.7\n",
      "8     0.1\n",
      "9     0.6\n",
      "10    0.7\n",
      "11    0.5\n",
      "dtype: float64\n"
     ]
    }
   ],
   "source": [
    "print(data_p/10)"
   ]
  },
  {
   "cell_type": "code",
   "execution_count": 83,
   "metadata": {},
   "outputs": [
    {
     "name": "stdout",
     "output_type": "stream",
     "text": [
      "0     7\n",
      "1     5\n",
      "2     2\n",
      "3     4\n",
      "4     1\n",
      "5     6\n",
      "6     6\n",
      "7     7\n",
      "8     1\n",
      "9     6\n",
      "10    7\n",
      "11    5\n",
      "dtype: int32\n"
     ]
    }
   ],
   "source": [
    "print(data_p%10)"
   ]
  },
  {
   "cell_type": "code",
   "execution_count": 84,
   "metadata": {},
   "outputs": [
    {
     "name": "stdout",
     "output_type": "stream",
     "text": [
      "0     49\n",
      "1     25\n",
      "2      4\n",
      "3     16\n",
      "4      1\n",
      "5     36\n",
      "6     36\n",
      "7     49\n",
      "8      1\n",
      "9     36\n",
      "10    49\n",
      "11    25\n",
      "dtype: int32\n"
     ]
    }
   ],
   "source": [
    "print(data_p**2)"
   ]
  },
  {
   "cell_type": "code",
   "execution_count": 74,
   "metadata": {},
   "outputs": [
    {
     "name": "stdout",
     "output_type": "stream",
     "text": [
      "0       1\n",
      "1       4\n",
      "2      27\n",
      "3     256\n",
      "4    3125\n",
      "dtype: int64\n"
     ]
    }
   ],
   "source": [
    "numbers  = pd.Series([1,2,3,4,5])\n",
    "def square(x):\n",
    "    return x**x\n",
    "square_num = numbers.apply(square)\n",
    "print(square_num)"
   ]
  },
  {
   "cell_type": "code",
   "execution_count": 87,
   "metadata": {},
   "outputs": [
    {
     "name": "stdout",
     "output_type": "stream",
     "text": [
      "0    False\n",
      "1    False\n",
      "2    False\n",
      "3    False\n",
      "4     True\n",
      "dtype: bool\n"
     ]
    }
   ],
   "source": [
    "print(numbers > 4)"
   ]
  },
  {
   "cell_type": "code",
   "execution_count": 90,
   "metadata": {},
   "outputs": [
    {
     "name": "stdout",
     "output_type": "stream",
     "text": [
      "      Name  Age       City  Gender\n",
      "0  Tasuvar   55      Delhi    Male\n",
      "1     Neha   75     Mumbai  Female\n",
      "2     Amit   22       Pune    Male\n",
      "3   Chirag   99  Bangalore    Male\n",
      "RangeIndex(start=0, stop=4, step=1)\n"
     ]
    }
   ],
   "source": [
    "data = {\n",
    "    \"Name\":[\"Tasuvar\",\"Neha\",\"Amit\",\"Chirag\"],\n",
    "    \"Age\":[55,75,22,99],\n",
    "    \"City\":[\"Delhi\",\"Mumbai\",\"Pune\",\"Bangalore\"],\n",
    "    \"Gender\":[\"Male\",\"Female\",\"Male\",\"Male\"]\n",
    "}\n",
    "df = pd.DataFrame(data)\n",
    "print(df)\n",
    "print(df.index)\n",
    "# shape =(row, column)\n",
    "# columns = no of columns\n",
    "# dtype = column data type\n"
   ]
  }
 ],
 "metadata": {
  "kernelspec": {
   "display_name": "Python 3",
   "language": "python",
   "name": "python3"
  },
  "language_info": {
   "codemirror_mode": {
    "name": "ipython",
    "version": 3
   },
   "file_extension": ".py",
   "mimetype": "text/x-python",
   "name": "python",
   "nbconvert_exporter": "python",
   "pygments_lexer": "ipython3",
   "version": "3.13.0"
  }
 },
 "nbformat": 4,
 "nbformat_minor": 2
}
