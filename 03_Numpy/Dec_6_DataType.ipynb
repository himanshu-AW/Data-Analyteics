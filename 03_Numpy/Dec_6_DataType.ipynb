{
 "cells": [
  {
   "cell_type": "markdown",
   "metadata": {},
   "source": [
    "**NumPy Data Types**\n",
    "\n",
    "- NumPy supports a much greater variety of numerical types than Python does.\n",
    "\n",
    "| **Sr. No.** | **Data Type**   | **Description**                                                                 |\n",
    "|-------------|-----------------|---------------------------------------------------------------------------------|\n",
    "| 1           | `bool_`         | Boolean (True or False) stored as a byte.                                       |\n",
    "| 2           | `int_`          | Default integer type (same as C long; normally either `int64` or `int32`).      |\n",
    "| 3           | `intc`          | Identical to C `int` (normally `int32` or `int64`).                             |\n",
    "| 4           | `intp`          | Integer used for indexing (same as C `ssize_t`; normally `int32` or `int64`).   |\n",
    "| 5           | `int8`          | Byte (-128 to 127).                                                             |\n",
    "| 6           | `int16`         | Integer (-32,768 to 32,767).                                                    |\n",
    "| 7           | `int32`         | Integer (-2,147,483,648 to 2,147,483,647).                                      |\n",
    "| 8           | `int64`         | Integer (-9,223,372,036,854,775,808 to 9,223,372,036,854,775,807).              |\n",
    "| 9           | `uint8`         | Unsigned integer (0 to 255).                                                    |\n",
    "| 10          | `uint16`        | Unsigned integer (0 to 65,535).                                                 |\n",
    "| 11          | `uint32`        | Unsigned integer (0 to 4,294,967,295).                                          |\n",
    "| 12          | `uint64`        | Unsigned integer (0 to 18,446,744,073,709,551,615).                             |\n",
    "| 13          | `float_`        | Shorthand for `float64`.                                                        |\n",
    "| 14          | `float16`       | Half precision float: sign bit, 5 bits exponent, 10 bits mantissa.              |\n",
    "| 15          | `float32`       | Single precision float: sign bit, 8 bits exponent, 23 bits mantissa.            |\n",
    "| 16          | `float64`       | Double precision float: sign bit, 11 bits exponent, 52 bits mantissa.           |\n",
    "| 17          | `complex_`      | Shorthand for `complex128`.                                                     |\n",
    "| 18          | `complex64`     | Complex number, represented by two 32-bit floats (real and imaginary components).|\n",
    "| 19          | `complex128`    | Complex number, represented by two 64-bit floats (real and imaginary components).|\n"
   ]
  }
 ],
 "metadata": {
  "language_info": {
   "name": "python"
  }
 },
 "nbformat": 4,
 "nbformat_minor": 2
}
